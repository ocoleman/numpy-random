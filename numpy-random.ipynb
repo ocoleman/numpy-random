{
 "cells": [
  {
   "cell_type": "markdown",
   "metadata": {},
   "source": [
    "# The numpy.random package"
   ]
  },
  {
   "cell_type": "markdown",
   "metadata": {},
   "source": [
    "The numpy.random package allows us to efficiently generate whole arrays of sample values from many kinds of probability distributions. The use of randomness is important in the field of machine learning as well as Data science as a whole. In computing, random numbers are not usually truly random and are instead programmatically generated to look random. For this reason we refer to these numbers as *psuedo random*, as any numbers generated this way can ultimatley be predicted. Despite this, unless you have security concerns the numpy.random package is a handy tool for generating data. "
   ]
  },
  {
   "cell_type": "markdown",
   "metadata": {},
   "source": [
    "<br>\n",
    "\n",
    "## Simple Random Data\n",
    "***\n"
   ]
  },
  {
   "cell_type": "markdown",
   "metadata": {},
   "source": [
    "Before we can investigate the various functions of the package we must first import the relevant libraries we will be using as well as construct a new generator.  "
   ]
  },
  {
   "cell_type": "code",
   "execution_count": 1,
   "metadata": {},
   "outputs": [],
   "source": [
    "import numpy as np\n",
    "import matplotlib.pyplot as plt\n",
    "import seaborn as sns\n",
    "\n",
    "#Contructs generator 'rng'\n",
    "rng = np.random.default_rng()"
   ]
  },
  {
   "cell_type": "markdown",
   "metadata": {},
   "source": [
    "#### Integers\n"
   ]
  },
  {
   "cell_type": "markdown",
   "metadata": {},
   "source": [
    "This method returns an array of 20 random integers from a *low* value, in this case 1, to a high value 6. The values returned exclude the high value given as can be observed below with the exclusion on any 6 integers in the array. "
   ]
  },
  {
   "cell_type": "code",
   "execution_count": 2,
   "metadata": {},
   "outputs": [
    {
     "data": {
      "text/plain": [
       "array([2, 3, 5, 2, 2, 3, 5, 5, 5, 3, 4, 3, 2, 1, 3, 4, 2, 4, 1, 3],\n",
       "      dtype=int64)"
      ]
     },
     "execution_count": 2,
     "metadata": {},
     "output_type": "execute_result"
    }
   ],
   "source": [
    "rng.integers(1,6, size=20)"
   ]
  },
  {
   "cell_type": "markdown",
   "metadata": {},
   "source": [
    "This method also contains a parameter *endpoint*, which is set to False by default. When set to True, the *high* values are also included in outputs. The *dtype* seen above refers to the Data type and are by default 64-bit integers. It is worth noting that if *high* is not set, the *low* parameter is set to 0 and the initial value of *low* is used as *high*."
   ]
  },
  {
   "cell_type": "code",
   "execution_count": 3,
   "metadata": {},
   "outputs": [
    {
     "data": {
      "text/plain": [
       "array([ 3, 10,  9,  7,  0,  6,  8,  6,  7,  8,  1,  5,  6,  8,  2,  5,  5,\n",
       "        4,  1,  2,  5,  4,  9,  4,  6,  2,  7,  9,  7,  4,  6,  3,  9,  7,\n",
       "        1,  8,  1,  4,  7,  3], dtype=int64)"
      ]
     },
     "execution_count": 3,
     "metadata": {},
     "output_type": "execute_result"
    }
   ],
   "source": [
    "rng.integers(10, size=40, endpoint=True)"
   ]
  },
  {
   "cell_type": "markdown",
   "metadata": {},
   "source": [
    "***"
   ]
  },
  {
   "cell_type": "markdown",
   "metadata": {},
   "source": [
    "#### Random"
   ]
  },
  {
   "cell_type": "markdown",
   "metadata": {},
   "source": [
    "This function returns float values between 0.0 and 1.0. dtype can also be set but only 64 and 32-bit float values are supported."
   ]
  },
  {
   "cell_type": "code",
   "execution_count": 4,
   "metadata": {},
   "outputs": [
    {
     "data": {
      "text/plain": [
       "array([0.12316309, 0.18510795, 0.73303764, 0.85185058, 0.48590729,\n",
       "       0.13665809, 0.25500733, 0.54226012, 0.30005279, 0.87481985])"
      ]
     },
     "execution_count": 4,
     "metadata": {},
     "output_type": "execute_result"
    }
   ],
   "source": [
    "rng.random(size=10)"
   ]
  },
  {
   "cell_type": "markdown",
   "metadata": {},
   "source": [
    "***"
   ]
  },
  {
   "cell_type": "markdown",
   "metadata": {},
   "source": [
    "#### Choice"
   ]
  },
  {
   "cell_type": "markdown",
   "metadata": {},
   "source": [
    "rng.choice, when given a value *a* (in this case 5) and a *size* acts similarly to rng.integers and will return an array of integers in the range from 0 to 5 (exclusive) of size *size*."
   ]
  },
  {
   "cell_type": "code",
   "execution_count": 5,
   "metadata": {},
   "outputs": [
    {
     "data": {
      "text/plain": [
       "array([0, 1, 3, 3, 2], dtype=int64)"
      ]
     },
     "execution_count": 5,
     "metadata": {},
     "output_type": "execute_result"
    }
   ],
   "source": [
    "rng.choice(5, size=5)"
   ]
  },
  {
   "cell_type": "markdown",
   "metadata": {},
   "source": [
    "rng.choice can also take a parameter *p*, which is an array specifying the probability associated with getting each of the values from *a*. If *p* is not specified, the sample returned takes on a uniform distribution. "
   ]
  },
  {
   "cell_type": "code",
   "execution_count": 6,
   "metadata": {},
   "outputs": [
    {
     "data": {
      "text/plain": [
       "array([2, 1, 1, 1, 3, 3, 4, 2, 1, 2], dtype=int64)"
      ]
     },
     "execution_count": 6,
     "metadata": {},
     "output_type": "execute_result"
    }
   ],
   "source": [
    "rng.choice(5, size=10, p=[0.1, 0.6, 0.1, 0.1, 0.1])"
   ]
  },
  {
   "cell_type": "markdown",
   "metadata": {},
   "source": [
    "Below is a visualisation of rng.choice, demonstrating the uniform and non uniform distributions that can be returned, depending on the presence of the *p* parameter. 10,000 values are returned between 0-10(exclusive)."
   ]
  },
  {
   "cell_type": "code",
   "execution_count": 7,
   "metadata": {
    "scrolled": true
   },
   "outputs": [
    {
     "data": {
      "text/plain": [
       "(array([1015.,  957., 1005.,  951., 1006.,  991., 1005., 1061.,  959.,\n",
       "        1050.]),\n",
       " array([0. , 0.9, 1.8, 2.7, 3.6, 4.5, 5.4, 6.3, 7.2, 8.1, 9. ]),\n",
       " <a list of 10 Patch objects>)"
      ]
     },
     "execution_count": 7,
     "metadata": {},
     "output_type": "execute_result"
    },
    {
     "data": {
      "image/png": "[encoded data removed]",
      "text/plain": [
       "<Figure size 432x288 with 1 Axes>"
      ]
     },
     "metadata": {
      "needs_background": "light"
     },
     "output_type": "display_data"
    }
   ],
   "source": [
    "#Plotting rng.choice with p=None(default) \n",
    "ch = rng.choice(10, size=10000)\n",
    "plt.hist(ch)"
   ]
  },
  {
   "cell_type": "code",
   "execution_count": 8,
   "metadata": {},
   "outputs": [
    {
     "data": {
      "text/plain": [
       "(array([ 974.,   95., 1989.,    0.,  553.,  543.,  497.,  501.,  956.,\n",
       "        3892.]),\n",
       " array([0. , 0.9, 1.8, 2.7, 3.6, 4.5, 5.4, 6.3, 7.2, 8.1, 9. ]),\n",
       " <a list of 10 Patch objects>)"
      ]
     },
     "execution_count": 8,
     "metadata": {},
     "output_type": "execute_result"
    },
    {
     "data": {
      "image/png": "[encoded data removed]",
      "text/plain": [
       "<Figure size 432x288 with 1 Axes>"
      ]
     },
     "metadata": {
      "needs_background": "light"
     },
     "output_type": "display_data"
    }
   ],
   "source": [
    "#Plotting rng.choice with an array of different p values, note the correspondance of the values to the historgram below.\n",
    "ch2 = rng.choice(10, size=10000, p=[0.1, 0.01, 0.2, 0.0, 0.05, 0.05, 0.05, 0.05, 0.1, 0.39])\n",
    "plt.hist(ch2)"
   ]
  },
  {
   "cell_type": "markdown",
   "metadata": {},
   "source": [
    "***"
   ]
  },
  {
   "cell_type": "markdown",
   "metadata": {},
   "source": [
    "<br>\n",
    "\n",
    "#### Bytes\n"
   ]
  },
  {
   "cell_type": "markdown",
   "metadata": {},
   "source": [
    "rng.bytes returns random bytes of a specified size. Useful for cryptographical purposes. "
   ]
  },
  {
   "cell_type": "code",
   "execution_count": 9,
   "metadata": {},
   "outputs": [
    {
     "data": {
      "text/plain": [
       "b'f\\xc18\\xcb\\xb5\\xe6\\xebEx\\xf6\\x86\\xcd0\\x80A{\\xff\\xf4z\\xdeF\\xae\\xa5\\x13p\\xaa\\xc3\\xf2h\\xe56\\xa9\\x1bV\\xab\\xf8\\xa1\\x9f\\xb2\\xfb\\xb8v\\xc3\\x8f\\xfdXe\\xcf\\x8b\\x0b\\x13\\xf0\\x9d\\xdb\\xa6@&\\xf8\\x10\\xd2-\\xd6T\\xa1\"\\xaa\\x8b\\xc7iD6c\\xd72)\\x85\\xdb(\\x90\\xb2t\\x1d\\xbf\\x1c}\\xb8\\xcc\\x18\\xf4\\x82)v\\xdd4+\\xd3\\xeb\\xde\\x1e\\xe7'"
      ]
     },
     "execution_count": 9,
     "metadata": {},
     "output_type": "execute_result"
    }
   ],
   "source": [
    "rng.bytes(100)"
   ]
  },
  {
   "cell_type": "markdown",
   "metadata": {},
   "source": [
    "***"
   ]
  },
  {
   "cell_type": "markdown",
   "metadata": {},
   "source": [
    "<br>\n",
    "\n",
    "## Permutations\n",
    "\n",
    "***"
   ]
  },
  {
   "cell_type": "markdown",
   "metadata": {},
   "source": [
    "Permutation functions provide a way of reordering the content and sequences of arrays."
   ]
  },
  {
   "cell_type": "markdown",
   "metadata": {},
   "source": [
    "#### Shuffle"
   ]
  },
  {
   "cell_type": "markdown",
   "metadata": {},
   "source": [
    "This function shuffles the contents of an array without making a copy, the order is changed but the content remains the same."
   ]
  },
  {
   "cell_type": "code",
   "execution_count": 10,
   "metadata": {},
   "outputs": [
    {
     "data": {
      "text/plain": [
       "array([1, 4, 3, 4, 9, 9, 9, 3, 7, 8], dtype=int64)"
      ]
     },
     "execution_count": 10,
     "metadata": {},
     "output_type": "execute_result"
    }
   ],
   "source": [
    "arr = rng.integers(10, size=10)\n",
    "arr"
   ]
  },
  {
   "cell_type": "code",
   "execution_count": 11,
   "metadata": {
    "scrolled": true
   },
   "outputs": [
    {
     "data": {
      "text/plain": [
       "array([9, 3, 9, 4, 3, 8, 9, 4, 7, 1], dtype=int64)"
      ]
     },
     "execution_count": 11,
     "metadata": {},
     "output_type": "execute_result"
    }
   ],
   "source": [
    "rng.shuffle(arr)\n",
    "arr"
   ]
  },
  {
   "cell_type": "markdown",
   "metadata": {},
   "source": [
    "rng.shuffle also works on mulit-dimensional arrays."
   ]
  },
  {
   "cell_type": "code",
   "execution_count": 12,
   "metadata": {},
   "outputs": [
    {
     "data": {
      "text/plain": [
       "array([[8, 3, 6],\n",
       "       [2, 5, 7],\n",
       "       [9, 5, 1]], dtype=int64)"
      ]
     },
     "execution_count": 12,
     "metadata": {},
     "output_type": "execute_result"
    }
   ],
   "source": [
    "arr2 = rng.integers(10, size=(3,3))\n",
    "rng.shuffle(arr2)\n",
    "arr2"
   ]
  },
  {
   "cell_type": "markdown",
   "metadata": {},
   "source": [
    "#### Permutation"
   ]
  },
  {
   "cell_type": "markdown",
   "metadata": {},
   "source": [
    "Randomly shuffles the the value of *x*. In our case *x* is 10, so a permuted array of size 10 in range 0-9 is generated. "
   ]
  },
  {
   "cell_type": "code",
   "execution_count": 13,
   "metadata": {},
   "outputs": [
    {
     "data": {
      "text/plain": [
       "array([1, 8, 4, 5, 9, 2, 7, 0, 6, 3])"
      ]
     },
     "execution_count": 13,
     "metadata": {},
     "output_type": "execute_result"
    }
   ],
   "source": [
    "rng.permutation(10)"
   ]
  },
  {
   "cell_type": "markdown",
   "metadata": {},
   "source": [
    "*x* can also be an array, in which case, unlike rng.shuffle, a copy is made and the elements are randomly shuffled within. "
   ]
  },
  {
   "cell_type": "code",
   "execution_count": 14,
   "metadata": {},
   "outputs": [
    {
     "data": {
      "text/plain": [
       "array([9, 7, 7, 0, 7, 1, 8, 6, 1, 1], dtype=int64)"
      ]
     },
     "execution_count": 14,
     "metadata": {},
     "output_type": "execute_result"
    }
   ],
   "source": [
    "arr3 = rng.integers(10, size=10)\n",
    "rng.permutation(arr3)"
   ]
  },
  {
   "cell_type": "markdown",
   "metadata": {},
   "source": [
    "***"
   ]
  },
  {
   "cell_type": "markdown",
   "metadata": {},
   "source": [
    "<br>\n",
    "\n",
    "## Distributions\n",
    "\n",
    "***"
   ]
  },
  {
   "cell_type": "markdown",
   "metadata": {},
   "source": [
    "Next, we will look at some of NumPys many functions for returing randomly generated data distributions."
   ]
  },
  {
   "cell_type": "markdown",
   "metadata": {},
   "source": [
    "#### Normal"
   ]
  },
  {
   "cell_type": "markdown",
   "metadata": {},
   "source": [
    "Normal distribution is on of the most commonly observed distributions, and can be observed anywhere from thing like food delivery times to test score results. It is more colloquially known as the Bell Curve or academically as the Guassian distribution.[1]"
   ]
  },
  {
   "cell_type": "markdown",
   "metadata": {},
   "source": [
    "The rng.normal method generates a normal distribution in numPy. It can take 3 parameters *loc* which is the mean, or where the peak of the bell is placed, *scale* which determines how far in each direction from the mean the elements in the array may stretch and finally *size* which species the quantity of elements in the array, including additional sub-arrays."
   ]
  },
  {
   "cell_type": "code",
   "execution_count": 15,
   "metadata": {},
   "outputs": [
    {
     "data": {
      "text/plain": [
       "array([[ 2.17290174,  2.20172806,  1.80159308,  0.99189772,  1.89567176],\n",
       "       [ 1.39846724,  2.72914409,  1.90802838, -0.07759024,  0.48200581],\n",
       "       [ 0.12596833,  3.35649026, -1.46082832,  2.23764987,  1.40928854]])"
      ]
     },
     "execution_count": 15,
     "metadata": {},
     "output_type": "execute_result"
    }
   ],
   "source": [
    "#Generates a normal distribution, with a mean of 2 and a stdev of 1 either side.\n",
    "#Values generated in 2d array with 5 values at each element.\n",
    "rng.normal(loc=2, scale=1, size=(3,5))"
   ]
  },
  {
   "cell_type": "markdown",
   "metadata": {},
   "source": [
    "Below is a visualisation of heights in an imagined population, data loosely corresponds to real world values, mean height is 1.7, with a standard deviation of 0.07."
   ]
  },
  {
   "cell_type": "code",
   "execution_count": 16,
   "metadata": {},
   "outputs": [
    {
     "data": {
      "text/plain": [
       "<matplotlib.axes._subplots.AxesSubplot at 0x2942ab0b430>"
      ]
     },
     "execution_count": 16,
     "metadata": {},
     "output_type": "execute_result"
    },
    {
     "data": {
      "image/png": "[encoded data removed]",
      "text/plain": [
       "<Figure size 432x288 with 1 Axes>"
      ]
     },
     "metadata": {
      "needs_background": "light"
     },
     "output_type": "display_data"
    }
   ],
   "source": [
    "n = rng.normal(1.7, 0.07, 1000) #Generated normal distribution of size 1,000\n",
    "sns.distplot(n) #Seaborn distplot "
   ]
  },
  {
   "cell_type": "markdown",
   "metadata": {},
   "source": [
    "***"
   ]
  },
  {
   "cell_type": "markdown",
   "metadata": {},
   "source": [
    "#### Uniform"
   ]
  },
  {
   "cell_type": "markdown",
   "metadata": {},
   "source": [
    "Uniform distribution is when any value in a given interval has an equal chance of being returned."
   ]
  },
  {
   "cell_type": "markdown",
   "metadata": {},
   "source": [
    "The NumPy uniform method has a lower and and upper bound as parameters in the form of *low* and *high* with *high* being excluded from returned values, it also has a *size* parameter for specifying the amount of values to be returned. Below the uniform method is called generating 10 values between 0 and 99. Samples returned are in floating point numbers. "
   ]
  },
  {
   "cell_type": "code",
   "execution_count": 30,
   "metadata": {},
   "outputs": [
    {
     "data": {
      "text/plain": [
       "array([43.79975459, 53.54887309, 34.3468726 , 50.25302671, 71.0580108 ,\n",
       "       18.2049699 , 69.5686736 , 29.4813288 , 87.02097917, 79.82804732])"
      ]
     },
     "execution_count": 30,
     "metadata": {},
     "output_type": "execute_result"
    }
   ],
   "source": [
    "rng.uniform(0,100,10)"
   ]
  },
  {
   "cell_type": "markdown",
   "metadata": {},
   "source": [
    "Although it may not seem like it, each value is in fact equally as likely to be drawn."
   ]
  },
  {
   "cell_type": "code",
   "execution_count": 31,
   "metadata": {},
   "outputs": [
    {
     "data": {
      "text/plain": [
       "(array([5., 4., 6., 6., 4., 4., 5., 2., 8., 6.]),\n",
       " array([ 2.94940805, 12.29540956, 21.64141107, 30.98741257, 40.33341408,\n",
       "        49.67941559, 59.0254171 , 68.37141861, 77.71742012, 87.06342162,\n",
       "        96.40942313]),\n",
       " <a list of 10 Patch objects>)"
      ]
     },
     "execution_count": 31,
     "metadata": {},
     "output_type": "execute_result"
    },
    {
     "data": {
      "image/png": "[encoded data removed]",
      "text/plain": [
       "<Figure size 432x288 with 1 Axes>"
      ]
     },
     "metadata": {
      "needs_background": "light"
     },
     "output_type": "display_data"
    }
   ],
   "source": [
    "#Histogram plot of unifrom distribution on a size of 10\n",
    "u = rng.uniform(0,100,size=50)\n",
    "plt.hist(u)"
   ]
  },
  {
   "cell_type": "markdown",
   "metadata": {},
   "source": [
    "This becomes apparent when dealing with much larger quantities as shown below."
   ]
  },
  {
   "cell_type": "code",
   "execution_count": 32,
   "metadata": {},
   "outputs": [
    {
     "data": {
      "text/plain": [
       "(array([1046., 1014.,  951.,  956.,  999., 1002., 1013.,  969., 1055.,\n",
       "         995.]),\n",
       " array([4.98273001e-03, 1.00039544e+01, 2.00029261e+01, 3.00018978e+01,\n",
       "        4.00008695e+01, 4.99998413e+01, 5.99988130e+01, 6.99977847e+01,\n",
       "        7.99967564e+01, 8.99957281e+01, 9.99946998e+01]),\n",
       " <a list of 10 Patch objects>)"
      ]
     },
     "execution_count": 32,
     "metadata": {},
     "output_type": "execute_result"
    },
    {
     "data": {
      "image/png": "[encoded data removed]",
      "text/plain": [
       "<Figure size 432x288 with 1 Axes>"
      ]
     },
     "metadata": {
      "needs_background": "light"
     },
     "output_type": "display_data"
    }
   ],
   "source": [
    "u2 = rng.uniform(0,100,size=10000)\n",
    "plt.hist(u2)"
   ]
  },
  {
   "cell_type": "markdown",
   "metadata": {},
   "source": [
    "***"
   ]
  },
  {
   "cell_type": "markdown",
   "metadata": {},
   "source": [
    "#### Binomial"
   ]
  },
  {
   "cell_type": "markdown",
   "metadata": {},
   "source": [
    "Binomial Distribution is used to generate values of a binary nature, the most common example of this is data related to a coin toss. Binomial distribution is discrete, as in the case of the coin toss, the coin may on land on heads or tails."
   ]
  },
  {
   "cell_type": "markdown",
   "metadata": {},
   "source": [
    "This method has 3 parameters, *n*, the number of trials, *p* the probability of each occurance and *size*, the output shape of the trials. "
   ]
  },
  {
   "cell_type": "code",
   "execution_count": 53,
   "metadata": {},
   "outputs": [
    {
     "data": {
      "text/plain": [
       "array([4, 4, 6, 1, 5], dtype=int64)"
      ]
     },
     "execution_count": 53,
     "metadata": {},
     "output_type": "execute_result"
    }
   ],
   "source": [
    "#The results of 5 instances of tossing a coin 10 times, numbers can be observed as out of 10.\n",
    "rng.binomial(n=10, p=0.5, size=5)"
   ]
  },
  {
   "cell_type": "markdown",
   "metadata": {},
   "source": [
    "Visualising the results of 1,000 instances of the coin toss example, we can see results are bunched in the 4-6 area with some variance on either side. This is expected of the coin toss scenario, where 5 out of 10 can be perceived as the average."
   ]
  },
  {
   "cell_type": "code",
   "execution_count": 62,
   "metadata": {},
   "outputs": [
    {
     "data": {
      "text/plain": [
       "(array([  1.,  12.,  47., 120., 205., 231., 217., 118.,  40.,   9.]),\n",
       " array([ 0.,  1.,  2.,  3.,  4.,  5.,  6.,  7.,  8.,  9., 10.]),\n",
       " <a list of 10 Patch objects>)"
      ]
     },
     "execution_count": 62,
     "metadata": {},
     "output_type": "execute_result"
    },
    {
     "data": {
      "image/png": "[encoded data removed]",
      "text/plain": [
       "<Figure size 432x288 with 1 Axes>"
      ]
     },
     "metadata": {
      "needs_background": "light"
     },
     "output_type": "display_data"
    }
   ],
   "source": [
    "b = rng.binomial(n=10, p=0.5, size=1000)\n",
    "plt.hist(b)"
   ]
  },
  {
   "cell_type": "markdown",
   "metadata": {},
   "source": [
    "***"
   ]
  },
  {
   "cell_type": "markdown",
   "metadata": {},
   "source": [
    "#### Multinomial"
   ]
  },
  {
   "cell_type": "markdown",
   "metadata": {},
   "source": [
    "Multinomial Distribution is very similar to binomial distribution, the difference is while Binomial involves values of a binary nature, multinomial distribution involves samples that can have multiple different outcomes. The classic example of this is the dice throw experiment."
   ]
  },
  {
   "cell_type": "markdown",
   "metadata": {},
   "source": [
    "The multinomial method takes in the following parameters, *n* the number of experiments, in our case lets say we throw a dice 20 times, *n*=20, *pvals* is a list containing the probability of out comes for the dice roll, and finally *size* is the number of instances of the experiement run."
   ]
  },
  {
   "cell_type": "code",
   "execution_count": 84,
   "metadata": {},
   "outputs": [
    {
     "data": {
      "text/plain": [
       "array([[2, 4, 3, 1, 6, 4]], dtype=int64)"
      ]
     },
     "execution_count": 84,
     "metadata": {},
     "output_type": "execute_result"
    }
   ],
   "source": [
    "rng.multinomial(n=20, pvals=[1/6, 1/6, 1/6, 1/6, 1/6, 1/6], size=1)"
   ]
  },
  {
   "cell_type": "markdown",
   "metadata": {},
   "source": [
    "***"
   ]
  },
  {
   "cell_type": "markdown",
   "metadata": {},
   "source": [
    "#### Zipf Distribution"
   ]
  },
  {
   "cell_type": "markdown",
   "metadata": {},
   "source": [
    "Zipf distribution is a distribution based on Zipf's law, which observed that in human language the most frequently used work will occur twice as often as the second most used word, and three times as often as the third most used word, and so on. An example of this is the word \"the\", which occurs twice as much as the next most used word \"of\" and three times as the next most used word \"and\".[2]"
   ]
  },
  {
   "cell_type": "markdown",
   "metadata": {},
   "source": [
    "Zipf distribution takes in two parameters *a*, the distribution paramater and *size*, the quantity of values in the returned array."
   ]
  },
  {
   "cell_type": "code",
   "execution_count": 111,
   "metadata": {},
   "outputs": [
    {
     "data": {
      "text/plain": [
       "<matplotlib.axes._subplots.AxesSubplot at 0x2942caa3220>"
      ]
     },
     "execution_count": 111,
     "metadata": {},
     "output_type": "execute_result"
    },
    {
     "data": {
      "image/png": "[encoded data removed]",
      "text/plain": [
       "<Figure size 432x288 with 1 Axes>"
      ]
     },
     "metadata": {
      "needs_background": "light"
     },
     "output_type": "display_data"
    }
   ],
   "source": [
    "z = rng.zipf(a=2, size=1000)\n",
    "sns.distplot(z[z<10], kde=False)"
   ]
  },
  {
   "cell_type": "markdown",
   "metadata": {},
   "source": [
    "Numpys random numbers are not truly random and are instead programmatically determined by a random number generator. The generator generates a sequence of numbers from a source called a seed. In NumPy you can set the seed as any number you want, if you do not set a seed NumPy will usually use the system clock as the default seed. "
   ]
  }
 ],
 "metadata": {
  "kernelspec": {
   "display_name": "Python 3",
   "language": "python",
   "name": "python3"
  },
  "language_info": {
   "codemirror_mode": {
    "name": "ipython",
    "version": 3
   },
   "file_extension": ".py",
   "mimetype": "text/x-python",
   "name": "python",
   "nbconvert_exporter": "python",
   "pygments_lexer": "ipython3",
   "version": "3.8.3"
  }
 },
 "nbformat": 4,
 "nbformat_minor": 4
}
